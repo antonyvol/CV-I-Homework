{
 "cells": [
  {
   "cell_type": "code",
   "execution_count": 1,
   "metadata": {},
   "outputs": [],
   "source": [
    "import numpy as np\n",
    "import pickle\n",
    "import seaborn as sns\n",
    "import matplotlib.pyplot as plt"
   ]
  },
  {
   "cell_type": "code",
   "execution_count": 2,
   "metadata": {},
   "outputs": [],
   "source": [
    "def unpickle(file):\n",
    "    with open(file, 'rb') as fo:\n",
    "        dict = pickle.load(fo, encoding='bytes')\n",
    "    return dict"
   ]
  },
  {
   "cell_type": "code",
   "execution_count": 3,
   "metadata": {},
   "outputs": [],
   "source": [
    "def extract_n_samples(data, n, label):\n",
    "    return data[b'data'][np.where(np.array(data[b'labels'])==label)][:n].reshape(n, 3, 1024).astype(float)"
   ]
  },
  {
   "cell_type": "code",
   "execution_count": 4,
   "metadata": {},
   "outputs": [],
   "source": [
    "def batch_to_grayscale(img_batch):\n",
    "    res = []\n",
    "    for img in np.rollaxis(img_batch, 0):\n",
    "        tmp = [int((x[0]+x[1]+x[2])/3) for x in np.rollaxis(img, 1)]\n",
    "        res.append(tmp)\n",
    "    return np.array(res)"
   ]
  },
  {
   "cell_type": "code",
   "execution_count": 5,
   "metadata": {},
   "outputs": [],
   "source": [
    "def get_l2(input_hist, targ_hists):\n",
    "    return np.asarray(list(map(lambda x : np.linalg.norm(input_hist - x), targ_hists)))"
   ]
  },
  {
   "cell_type": "code",
   "execution_count": 6,
   "metadata": {},
   "outputs": [],
   "source": [
    "# autos 0 / ships 1 / deers 2\n",
    "\n",
    "def predict_class(hist, autos_hists, ships_hists, deers_hists):\n",
    "    autos_min_l2 = np.amin(get_l2(hist, autos_hists))\n",
    "    ships_min_l2 = np.amin(get_l2(hist, ships_hists))\n",
    "    deers_min_l2 = np.amin(get_l2(hist, deers_hists))\n",
    "        \n",
    "    min_index = np.asarray([autos_min_l2, ships_min_l2, deers_min_l2]).argmin()\n",
    "    \n",
    "    return min_index"
   ]
  },
  {
   "cell_type": "code",
   "execution_count": 7,
   "metadata": {},
   "outputs": [],
   "source": [
    "n_samples_train = 30\n",
    "n_samples_test = 10\n",
    "bins = 50"
   ]
  },
  {
   "cell_type": "markdown",
   "metadata": {},
   "source": [
    "# Trainig"
   ]
  },
  {
   "cell_type": "code",
   "execution_count": 8,
   "metadata": {},
   "outputs": [],
   "source": [
    "train_data = unpickle('cifar-10-python/cifar-10-batches-py/data_batch_1')"
   ]
  },
  {
   "cell_type": "code",
   "execution_count": 9,
   "metadata": {},
   "outputs": [],
   "source": [
    "autos = extract_n_samples(train_data, n_samples_train, 1)\n",
    "deers = extract_n_samples(train_data, n_samples_train, 4)\n",
    "ships = extract_n_samples(train_data, n_samples_train, 8)"
   ]
  },
  {
   "cell_type": "code",
   "execution_count": 10,
   "metadata": {},
   "outputs": [],
   "source": [
    "train_gs_autos = batch_to_grayscale(autos)\n",
    "train_gs_deers = batch_to_grayscale(deers)\n",
    "train_gs_ships = batch_to_grayscale(ships)"
   ]
  },
  {
   "cell_type": "code",
   "execution_count": 11,
   "metadata": {},
   "outputs": [],
   "source": [
    "train_autos_hists = []\n",
    "train_deers_hists = []\n",
    "train_ships_hists = []\n",
    "\n",
    "for i in range(n_samples_train):\n",
    "    train_ships_hists.append(np.histogram(train_gs_ships[i], bins=bins)[0])\n",
    "    train_deers_hists.append(np.histogram(train_gs_deers[i], bins=bins)[0])\n",
    "    train_autos_hists.append(np.histogram(train_gs_autos[i], bins=bins)[0])\n",
    "    \n",
    "np.save('train_ships_hists', np.asarray(train_ships_hists))\n",
    "np.save('train_deers_hists', np.asarray(train_deers_hists))\n",
    "np.save('train_autos_hists', np.asarray(train_autos_hists))"
   ]
  },
  {
   "cell_type": "markdown",
   "metadata": {},
   "source": [
    "# Testing"
   ]
  },
  {
   "cell_type": "code",
   "execution_count": 12,
   "metadata": {},
   "outputs": [],
   "source": [
    "test_data = unpickle('cifar-10-python/cifar-10-batches-py/test_batch')"
   ]
  },
  {
   "cell_type": "code",
   "execution_count": 13,
   "metadata": {},
   "outputs": [],
   "source": [
    "autos = extract_n_samples(test_data, n_samples_test, 1)\n",
    "deers = extract_n_samples(test_data, n_samples_test, 4)\n",
    "ships = extract_n_samples(test_data, n_samples_test, 8)"
   ]
  },
  {
   "cell_type": "code",
   "execution_count": 14,
   "metadata": {},
   "outputs": [],
   "source": [
    "test_gs_autos = batch_to_grayscale(autos)\n",
    "test_gs_deers = batch_to_grayscale(deers)\n",
    "test_gs_ships = batch_to_grayscale(ships)"
   ]
  },
  {
   "cell_type": "code",
   "execution_count": 15,
   "metadata": {},
   "outputs": [],
   "source": [
    "test_autos_hists = []\n",
    "test_deers_hists = []\n",
    "test_ships_hists = []\n",
    "\n",
    "for i in range(n_samples_test):\n",
    "    test_ships_hists.append(np.histogram(test_gs_ships[i], bins=bins)[0])\n",
    "    test_deers_hists.append(np.histogram(test_gs_deers[i], bins=bins)[0])\n",
    "    test_autos_hists.append(np.histogram(test_gs_autos[i], bins=bins)[0])"
   ]
  },
  {
   "cell_type": "code",
   "execution_count": 16,
   "metadata": {},
   "outputs": [],
   "source": [
    "train_autos_hists = np.load('train_autos_hists.npy')\n",
    "train_deers_hists = np.load('train_deers_hists.npy')\n",
    "train_ships_hists = np.load('train_ships_hists.npy')"
   ]
  },
  {
   "cell_type": "code",
   "execution_count": 17,
   "metadata": {},
   "outputs": [],
   "source": [
    "ship_correct_cntr = 0\n",
    "auto_correct_cntr = 0\n",
    "deer_correct_cntr = 0\n",
    "\n",
    "for i in range(n_samples_test):\n",
    "    if predict_class(test_ships_hists[i], train_autos_hists, train_ships_hists, train_deers_hists) == 1:\n",
    "        ship_correct_cntr += 1\n",
    "    if predict_class(test_deers_hists[i], train_autos_hists, train_ships_hists, train_deers_hists) == 2:\n",
    "        deer_correct_cntr += 1\n",
    "    if predict_class(test_autos_hists[i], train_autos_hists, train_ships_hists, train_deers_hists) == 0:\n",
    "        auto_correct_cntr += 1"
   ]
  },
  {
   "cell_type": "code",
   "execution_count": 18,
   "metadata": {},
   "outputs": [],
   "source": [
    "ship_acc = ship_correct_cntr / n_samples_test\n",
    "auto_acc = auto_correct_cntr / n_samples_test\n",
    "deer_acc = deer_correct_cntr / n_samples_test\n",
    "overall_acc = (ship_correct_cntr + auto_correct_cntr + deer_correct_cntr) / (n_samples_test * 3)"
   ]
  },
  {
   "cell_type": "code",
   "execution_count": 19,
   "metadata": {},
   "outputs": [
    {
     "name": "stdout",
     "output_type": "stream",
     "text": [
      "Auto acc:  0.4\n",
      "Ship acc:  0.2\n",
      "Deer acc:  0.7\n",
      "\n",
      "Overall acc:  0.43\n"
     ]
    }
   ],
   "source": [
    "print('Auto acc: ', '{:.2}'.format(auto_acc))\n",
    "print('Ship acc: ', '{:.2}'.format(ship_acc))\n",
    "print('Deer acc: ', '{:.2}'.format(deer_acc))\n",
    "print('\\nOverall acc: ', '{:.2}'.format(overall_acc))"
   ]
  },
  {
   "cell_type": "code",
   "execution_count": null,
   "metadata": {},
   "outputs": [],
   "source": []
  }
 ],
 "metadata": {
  "kernelspec": {
   "display_name": "Python 3",
   "language": "python",
   "name": "python3"
  },
  "language_info": {
   "codemirror_mode": {
    "name": "ipython",
    "version": 3
   },
   "file_extension": ".py",
   "mimetype": "text/x-python",
   "name": "python",
   "nbconvert_exporter": "python",
   "pygments_lexer": "ipython3",
   "version": "3.7.0"
  }
 },
 "nbformat": 4,
 "nbformat_minor": 2
}
