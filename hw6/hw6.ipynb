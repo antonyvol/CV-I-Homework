{
 "cells": [
  {
   "cell_type": "code",
   "execution_count": null,
   "metadata": {},
   "outputs": [],
   "source": [
    "from PIL import Image\n",
    "from skimage.color import rgb2gray\n",
    "from skimage.util import random_noise\n",
    "import numpy as np\n",
    "import matplotlib.pyplot as plt\n",
    "import math"
   ]
  },
  {
   "cell_type": "code",
   "execution_count": null,
   "metadata": {},
   "outputs": [],
   "source": [
    "tmp = Image.open('MaruTaro.jpg')\n",
    "tmp.load()\n",
    "idata = rgb2gray(np.asarray(tmp, dtype=np.float))"
   ]
  },
  {
   "cell_type": "code",
   "execution_count": null,
   "metadata": {},
   "outputs": [],
   "source": [
    "plt.figure(figsize=(20,10))\n",
    "plt.imshow(idata, cmap='gray')"
   ]
  },
  {
   "cell_type": "code",
   "execution_count": null,
   "metadata": {},
   "outputs": [],
   "source": [
    "dft = np.fft.fft2(idata)\n",
    "magn = np.log(np.abs(dft))\n",
    "phase = np.angle(dft)"
   ]
  },
  {
   "cell_type": "code",
   "execution_count": null,
   "metadata": {},
   "outputs": [],
   "source": [
    "fig = plt.figure(figsize=(20,10))\n",
    "fig.add_subplot(1, 2, 1)\n",
    "plt.imshow(magn, cmap='gray')\n",
    "fig.add_subplot(1, 2, 2)\n",
    "plt.imshow(phase, cmap='gray')\n",
    "plt.show()"
   ]
  },
  {
   "cell_type": "code",
   "execution_count": null,
   "metadata": {},
   "outputs": [],
   "source": [
    "smagn = np.fft.fftshift(magn)\n",
    "sphase = np.fft.fftshift(phase)"
   ]
  },
  {
   "cell_type": "code",
   "execution_count": null,
   "metadata": {},
   "outputs": [],
   "source": [
    "fig = plt.figure(figsize=(20,10))\n",
    "fig.add_subplot(1, 2, 1)\n",
    "plt.imshow(smagn, cmap='gray')\n",
    "fig.add_subplot(1, 2, 2)\n",
    "plt.imshow(sphase, cmap='gray')\n",
    "plt.show()"
   ]
  },
  {
   "cell_type": "code",
   "execution_count": null,
   "metadata": {},
   "outputs": [],
   "source": [
    "P = idata.shape[0] * 2\n",
    "Q = idata.shape[1] * 2"
   ]
  },
  {
   "cell_type": "code",
   "execution_count": null,
   "metadata": {},
   "outputs": [],
   "source": [
    "pidata = np.pad(idata, (int(P/4),int(Q/4)), 'constant', constant_values=(0,0))"
   ]
  },
  {
   "cell_type": "code",
   "execution_count": null,
   "metadata": {},
   "outputs": [],
   "source": [
    "pdft = np.fft.fftshift(np.fft.fft2(pidata))"
   ]
  },
  {
   "cell_type": "code",
   "execution_count": null,
   "metadata": {},
   "outputs": [],
   "source": [
    "psmagn = np.log(np.abs(pdft))"
   ]
  },
  {
   "cell_type": "code",
   "execution_count": null,
   "metadata": {},
   "outputs": [],
   "source": [
    "plt.figure(figsize=(20,10))\n",
    "plt.imshow(psmagn, cmap='gray')"
   ]
  },
  {
   "cell_type": "code",
   "execution_count": null,
   "metadata": {},
   "outputs": [],
   "source": [
    "def ideal_low_pass_filter(img):\n",
    "    d0 = 150\n",
    "    P = img.shape[0]\n",
    "    Q = img.shape[1]\n",
    "    for i in range(P):\n",
    "        for j in range(Q):\n",
    "            if math.sqrt( (i - P/2)**2 + (j - Q/2)**2 ) <= d0:\n",
    "                img[i][j] = 1\n",
    "            else:\n",
    "                img[i][j] = 0\n",
    "    return img\n"
   ]
  },
  {
   "cell_type": "code",
   "execution_count": null,
   "metadata": {},
   "outputs": [],
   "source": [
    "lpsmagn = ideal_low_pass_filter(psmagn)\n",
    "# lpsmagn2 = ideal_low_pass_filter(psmagn)"
   ]
  },
  {
   "cell_type": "code",
   "execution_count": null,
   "metadata": {
    "scrolled": true
   },
   "outputs": [],
   "source": [
    "plt.figure(figsize=(20,10))\n",
    "plt.imshow(lpsmagn, cmap='gray')"
   ]
  },
  {
   "cell_type": "code",
   "execution_count": null,
   "metadata": {},
   "outputs": [],
   "source": [
    "print(pdft.shape)\n",
    "print(lpsmagn.shape)"
   ]
  },
  {
   "cell_type": "code",
   "execution_count": null,
   "metadata": {},
   "outputs": [],
   "source": [
    "res = np.real(np.fft.ifft2(np.fft.fftshift(pdft * lpsmagn)))\n",
    "res = res[int(P/4) : int(3*P/4), int(Q/4) : int(3*Q/4)]"
   ]
  },
  {
   "cell_type": "code",
   "execution_count": null,
   "metadata": {},
   "outputs": [],
   "source": [
    "plt.figure(figsize=(20,10))\n",
    "plt.imshow(res, cmap='gray')"
   ]
  },
  {
   "cell_type": "code",
   "execution_count": null,
   "metadata": {},
   "outputs": [],
   "source": [
    "def gaussian_low_pass_filter(img):\n",
    "    D0 = 150\n",
    "    P = img.shape[0]\n",
    "    Q = img.shape[1]\n",
    "    for i in range(P):\n",
    "        for j in range(Q):\n",
    "            D = math.sqrt( (i - P/2)**2 + (j - Q/2)**2 ) \n",
    "            img[i][j] = math.e**( (-1*D**2) / (2*D0**2) )\n",
    "    return img"
   ]
  },
  {
   "cell_type": "code",
   "execution_count": null,
   "metadata": {},
   "outputs": [],
   "source": [
    "glp = gaussian_low_pass_filter(psmagn)\n",
    "plt.imshow(glp, cmap='gray')"
   ]
  },
  {
   "cell_type": "code",
   "execution_count": null,
   "metadata": {},
   "outputs": [],
   "source": [
    "res = np.real(np.fft.ifft2(np.fft.fftshift(pdft * glp)))\n",
    "res = res[int(P/4) : int(3*P/4), int(Q/4) : int(3*Q/4)]\n",
    "plt.figure(figsize=(20,10))\n",
    "plt.imshow(res, cmap='gray')"
   ]
  },
  {
   "cell_type": "code",
   "execution_count": null,
   "metadata": {},
   "outputs": [],
   "source": [
    "def ideal_high_pass_filter(img):\n",
    "    d0 = 150\n",
    "    P = img.shape[0]\n",
    "    Q = img.shape[1]\n",
    "    for i in range(P):\n",
    "        for j in range(Q):\n",
    "            if math.sqrt( (i - P/2)**2 + (j - Q/2)**2 ) >= d0:\n",
    "                img[i][j] = 1\n",
    "            else:\n",
    "                img[i][j] = 0\n",
    "    return img"
   ]
  },
  {
   "cell_type": "code",
   "execution_count": null,
   "metadata": {},
   "outputs": [],
   "source": [
    "def gaussian_high_pass_filter(img):\n",
    "    D0 = 150\n",
    "    P = img.shape[0]\n",
    "    Q = img.shape[1]\n",
    "    for i in range(P):\n",
    "        for j in range(Q):\n",
    "            D = math.sqrt( (i - P/2)**2 + (j - Q/2)**2 ) \n",
    "            img[i][j] = 1 - math.e**( (-1*D**2) / (2*D0**2) )\n",
    "    return img"
   ]
  },
  {
   "cell_type": "code",
   "execution_count": null,
   "metadata": {},
   "outputs": [],
   "source": [
    "ghp = gaussian_high_pass_filter(psmagn)\n",
    "res1 = np.real(np.fft.ifft2(np.fft.fftshift(pdft * ghp)))\n",
    "res1 = res1[int(P/4) : int(3*P/4), int(Q/4) : int(3*Q/4)]\n",
    "plt.imshow(res1, cmap='gray')\n"
   ]
  },
  {
   "cell_type": "code",
   "execution_count": null,
   "metadata": {},
   "outputs": [],
   "source": [
    "res1 = np.real(np.fft.ifft2(np.fft.fftshift(pdft * ghp)))\n",
    "res1 = res1[int(P/4) : int(3*P/4), int(Q/4) : int(3*Q/4)]\n",
    "\n",
    "res2 = np.real(np.fft.ifft2(np.fft.fftshift(pdft * ihp)))\n",
    "res2 = res2[int(P/4) : int(3*P/4), int(Q/4) : int(3*Q/4)]"
   ]
  },
  {
   "cell_type": "code",
   "execution_count": null,
   "metadata": {},
   "outputs": [],
   "source": [
    "fig = plt.figure(figsize=(20,10))\n",
    "fig.add_subplot(1, 2, 1)\n",
    "plt.imshow(res2, cmap='gray')\n",
    "fig.add_subplot(1, 2, 2)\n",
    "plt.imshow(res1, cmap='gray')\n",
    "plt.show()"
   ]
  },
  {
   "cell_type": "code",
   "execution_count": null,
   "metadata": {},
   "outputs": [],
   "source": []
  }
 ],
 "metadata": {
  "kernelspec": {
   "display_name": "Python 3",
   "language": "python",
   "name": "python3"
  },
  "language_info": {
   "codemirror_mode": {
    "name": "ipython",
    "version": 3
   },
   "file_extension": ".py",
   "mimetype": "text/x-python",
   "name": "python",
   "nbconvert_exporter": "python",
   "pygments_lexer": "ipython3",
   "version": "3.7.0"
  }
 },
 "nbformat": 4,
 "nbformat_minor": 2
}
