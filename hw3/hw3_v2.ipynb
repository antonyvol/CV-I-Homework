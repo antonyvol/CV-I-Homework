{
 "cells": [
  {
   "cell_type": "code",
   "execution_count": null,
   "metadata": {},
   "outputs": [],
   "source": [
    "import numpy as np\n",
    "from skimage import filters, morphology\n",
    "import matplotlib.pyplot as plt\n",
    "import math\n",
    "import random\n",
    "from PIL import Image"
   ]
  },
  {
   "cell_type": "code",
   "execution_count": null,
   "metadata": {},
   "outputs": [],
   "source": [
    "img = Image.open('sample.jpg')\n",
    "img.load()\n",
    "data = np.asarray(img, dtype=np.int32)"
   ]
  },
  {
   "cell_type": "markdown",
   "metadata": {},
   "source": [
    "## Salt and pepper noise"
   ]
  },
  {
   "cell_type": "code",
   "execution_count": null,
   "metadata": {},
   "outputs": [],
   "source": [
    "sp_data = np.copy(data)\n",
    "sp_data.shape"
   ]
  },
  {
   "cell_type": "code",
   "execution_count": null,
   "metadata": {},
   "outputs": [],
   "source": [
    "n = 4000\n",
    "\n",
    "for _ in range(n):\n",
    "    i = random.randint(0, sp_data.shape[0] - 1)\n",
    "    j = random.randint(0, sp_data.shape[1] - 1)\n",
    "\n",
    "    flag = bool(random.getrandbits(1))\n",
    "    \n",
    "    for _ in range(3):\n",
    "        if flag:\n",
    "            sp_data[i][j][_] = 255\n",
    "        else:\n",
    "            sp_data[i][j][_] = 0"
   ]
  },
  {
   "cell_type": "code",
   "execution_count": null,
   "metadata": {},
   "outputs": [],
   "source": [
    "plt.figure(figsize=(20,10))\n",
    "plt.imshow(sp_data, interpolation='nearest')"
   ]
  },
  {
   "cell_type": "markdown",
   "metadata": {},
   "source": [
    "## Median filter (skimage)"
   ]
  },
  {
   "cell_type": "code",
   "execution_count": null,
   "metadata": {},
   "outputs": [],
   "source": [
    "mf_data = np.copy(np.rollaxis(data, 2))\n",
    "mf_data.shape"
   ]
  },
  {
   "cell_type": "code",
   "execution_count": null,
   "metadata": {},
   "outputs": [],
   "source": [
    "for _ in range(mf_data.shape[0]):\n",
    "    mf_data[_] = filters.median(mf_data[_], morphology.square(9))\n",
    "mf_data = np.rollaxis(mf_data, 2)\n",
    "mf_data = np.rollaxis(mf_data, 2)\n",
    "mf_data.shape"
   ]
  },
  {
   "cell_type": "code",
   "execution_count": null,
   "metadata": {
    "scrolled": false
   },
   "outputs": [],
   "source": [
    "plt.figure(figsize=(20,10))\n",
    "plt.imshow(mf_data, interpolation='nearest')"
   ]
  },
  {
   "cell_type": "markdown",
   "metadata": {},
   "source": [
    "## Box filter (skimage)"
   ]
  },
  {
   "cell_type": "code",
   "execution_count": null,
   "metadata": {},
   "outputs": [],
   "source": [
    "bf_data = np.copy(np.rollaxis(data, 2))\n",
    "bf_data.shape"
   ]
  },
  {
   "cell_type": "code",
   "execution_count": null,
   "metadata": {},
   "outputs": [],
   "source": [
    "for _ in range(bf_data.shape[0]):\n",
    "    bf_data[_] = filters.rank.mean(bf_data[_], morphology.square(9))\n",
    "bf_data = np.rollaxis(bf_data, 2)\n",
    "bf_data = np.rollaxis(bf_data, 2)\n",
    "bf_data.shape"
   ]
  },
  {
   "cell_type": "code",
   "execution_count": null,
   "metadata": {},
   "outputs": [],
   "source": [
    "plt.figure(figsize=(20,10))\n",
    "plt.imshow(bf_data, interpolation='nearest')"
   ]
  },
  {
   "cell_type": "markdown",
   "metadata": {},
   "source": [
    "## Gaussian filter (skimage)"
   ]
  },
  {
   "cell_type": "code",
   "execution_count": null,
   "metadata": {},
   "outputs": [],
   "source": [
    "gf_data = np.copy(data)\n",
    "gf_data.shape"
   ]
  },
  {
   "cell_type": "code",
   "execution_count": null,
   "metadata": {},
   "outputs": [],
   "source": [
    "gf_data = filters.gaussian(gf_data, sigma=1, multichannel=True, preserve_range=True).astype(np.int32)"
   ]
  },
  {
   "cell_type": "code",
   "execution_count": null,
   "metadata": {},
   "outputs": [],
   "source": [
    "plt.figure(figsize=(20,10))\n",
    "plt.imshow(gf_data, interpolation='nearest')"
   ]
  },
  {
   "cell_type": "markdown",
   "metadata": {},
   "source": [
    "## Median filter (handcrafted)"
   ]
  },
  {
   "cell_type": "code",
   "execution_count": null,
   "metadata": {},
   "outputs": [],
   "source": [
    "mf2_data = np.copy(np.rollaxis(data, 2))\n",
    "mf2_data.shape"
   ]
  },
  {
   "cell_type": "code",
   "execution_count": null,
   "metadata": {},
   "outputs": [],
   "source": [
    "def median_filter(data, wsize):\n",
    "    h = data.shape[0]\n",
    "    w = data.shape[1]\n",
    "    d = math.floor(wsize/2)\n",
    "    res = np.empty_like(data)\n",
    "    for i in range(h):\n",
    "        for j in range(w):\n",
    "            tmp = data[max(0,i-d):min(h,i+d), max(0,j-d):min(w,j+d)]\n",
    "            res[i][j] = np.median(tmp)\n",
    "    return res"
   ]
  },
  {
   "cell_type": "code",
   "execution_count": null,
   "metadata": {},
   "outputs": [],
   "source": [
    "for _ in range(mf2_data.shape[0]):\n",
    "    mf2_data[_] = median_filter(mf2_data[_], 9)\n",
    "mf2_data = np.rollaxis(mf2_data, 2)\n",
    "mf2_data = np.rollaxis(mf2_data, 2)\n",
    "mf2_data.shape"
   ]
  },
  {
   "cell_type": "code",
   "execution_count": null,
   "metadata": {},
   "outputs": [],
   "source": [
    "plt.figure(figsize=(20,10))\n",
    "plt.imshow(mf2_data, interpolation='nearest')"
   ]
  },
  {
   "cell_type": "markdown",
   "metadata": {},
   "source": [
    "## Box filter (handcrafted)"
   ]
  },
  {
   "cell_type": "code",
   "execution_count": null,
   "metadata": {},
   "outputs": [],
   "source": [
    "bf2_data = np.copy(np.rollaxis(data, 2))\n",
    "bf2_data.shape"
   ]
  },
  {
   "cell_type": "code",
   "execution_count": null,
   "metadata": {},
   "outputs": [],
   "source": [
    "def box_filter(data, wsize):\n",
    "    h = data.shape[0]\n",
    "    w = data.shape[1]\n",
    "    d = math.floor(wsize/2)\n",
    "    res = np.empty_like(data)\n",
    "    for i in range(h):\n",
    "        for j in range(w):\n",
    "            tmp = data[max(0,i-d):min(h,i+d), max(0,j-d):min(w,j+d)]\n",
    "            res[i][j] = np.mean(tmp)\n",
    "    return res"
   ]
  },
  {
   "cell_type": "code",
   "execution_count": null,
   "metadata": {},
   "outputs": [],
   "source": [
    "for _ in range(bf2_data.shape[0]):\n",
    "    bf2_data[_] = box_filter(bf2_data[_], 9)\n",
    "bf2_data = np.rollaxis(bf2_data, 2)\n",
    "bf2_data = np.rollaxis(bf2_data, 2)\n",
    "bf2_data.shape"
   ]
  },
  {
   "cell_type": "code",
   "execution_count": null,
   "metadata": {},
   "outputs": [],
   "source": [
    "plt.figure(figsize=(20,10))\n",
    "plt.imshow(bf2_data, interpolation='nearest')"
   ]
  },
  {
   "cell_type": "markdown",
   "metadata": {},
   "source": [
    "## Comparison of (skimage) and (handcrafted) filters"
   ]
  },
  {
   "cell_type": "code",
   "execution_count": null,
   "metadata": {
    "scrolled": true
   },
   "outputs": [],
   "source": [
    "total_pixels = mf_data.shape[0] * mf_data.shape[1] * mf_data.shape[2]\n",
    "print('Similarity of (handcrafted) and (skimage) versions: ')\n",
    "print('Median filter: ' + '{:.3}'.format(np.sum(mf_data == mf2_data) / total_pixels))\n",
    "print('Box filter: ' + '{:.3}'.format(np.sum(bf_data == bf2_data) / total_pixels))"
   ]
  },
  {
   "cell_type": "markdown",
   "metadata": {},
   "source": [
    "## Difference of gaussians"
   ]
  },
  {
   "cell_type": "code",
   "execution_count": null,
   "metadata": {},
   "outputs": [],
   "source": [
    "dog1_data = np.copy(data)\n",
    "dog2_data = np.copy(data)"
   ]
  },
  {
   "cell_type": "code",
   "execution_count": null,
   "metadata": {},
   "outputs": [],
   "source": [
    "g1 = filters.gaussian(dog1_data, sigma=2, multichannel=True, preserve_range=True).astype(np.int32)\n",
    "g2 = filters.gaussian(dog2_data, sigma=5, multichannel=True, preserve_range=True).astype(np.int32)\n",
    "dog_data = g1 - g2"
   ]
  },
  {
   "cell_type": "code",
   "execution_count": null,
   "metadata": {},
   "outputs": [],
   "source": [
    "plt.figure(figsize=(20,10))\n",
    "plt.imshow(dog_data, interpolation='nearest')"
   ]
  },
  {
   "cell_type": "markdown",
   "metadata": {},
   "source": [
    "## Difference of box filters"
   ]
  },
  {
   "cell_type": "code",
   "execution_count": null,
   "metadata": {},
   "outputs": [],
   "source": [
    "dob1_data = np.copy(np.rollaxis(data, 2))\n",
    "dob2_data = np.copy(np.rollaxis(data, 2))"
   ]
  },
  {
   "cell_type": "code",
   "execution_count": null,
   "metadata": {},
   "outputs": [],
   "source": [
    "for _ in range(dob1_data.shape[0]):\n",
    "    dob1_data[_] = filters.rank.mean(dob1_data[_], morphology.square(19))\n",
    "    dob2_data[_] = filters.rank.mean(dob2_data[_], morphology.square(43))\n",
    "    \n",
    "dob1_data = np.rollaxis(dob1_data, 2)\n",
    "dob1_data = np.rollaxis(dob1_data, 2)\n",
    "dob2_data = np.rollaxis(dob2_data, 2)\n",
    "dob2_data = np.rollaxis(dob2_data, 2)\n",
    "\n",
    "dob_data = dob1_data - dob2_data"
   ]
  },
  {
   "cell_type": "code",
   "execution_count": null,
   "metadata": {},
   "outputs": [],
   "source": [
    "plt.figure(figsize=(20,10))\n",
    "plt.imshow(dob_data, interpolation='nearest')"
   ]
  },
  {
   "cell_type": "code",
   "execution_count": null,
   "metadata": {},
   "outputs": [],
   "source": []
  }
 ],
 "metadata": {
  "kernelspec": {
   "display_name": "Python 3",
   "language": "python",
   "name": "python3"
  },
  "language_info": {
   "codemirror_mode": {
    "name": "ipython",
    "version": 3
   },
   "file_extension": ".py",
   "mimetype": "text/x-python",
   "name": "python",
   "nbconvert_exporter": "python",
   "pygments_lexer": "ipython3",
   "version": "3.7.0"
  }
 },
 "nbformat": 4,
 "nbformat_minor": 2
}
